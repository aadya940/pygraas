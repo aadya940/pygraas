{
 "cells": [
  {
   "cell_type": "code",
   "execution_count": 1,
   "metadata": {},
   "outputs": [
    {
     "name": "stdout",
     "output_type": "stream",
     "text": [
      "Defaulting to user installation because normal site-packages is not writeable\n",
      "\u001b[33mWARNING: Ignoring invalid distribution -eon (/home/aadya/.local/lib/python3.10/site-packages)\u001b[0m\u001b[33m\n",
      "\u001b[0mCollecting pydatastructs\n",
      "  Downloading pydatastructs-1.2.3-py3-none-any.whl.metadata (6.7 kB)\n",
      "Collecting typing (from pydatastructs)\n",
      "  Downloading typing-3.7.4.3.tar.gz (78 kB)\n",
      "\u001b[2K     \u001b[38;2;114;156;31m━━━━━━━━━━━━━━━━━━━━━━━━━━━━━━━━━━━━━━━\u001b[0m \u001b[32m78.6/78.6 kB\u001b[0m \u001b[31m434.9 kB/s\u001b[0m eta \u001b[36m0:00:00\u001b[0mMB/s\u001b[0m eta \u001b[36m0:00:01\u001b[0m:01\u001b[0m\n",
      "\u001b[?25h  Preparing metadata (setup.py) ... \u001b[?25ldone\n",
      "\u001b[?25hDownloading pydatastructs-1.2.3-py3-none-any.whl (17 kB)\n",
      "Building wheels for collected packages: typing\n",
      "  Building wheel for typing (setup.py) ... \u001b[?25ldone\n",
      "\u001b[?25h  Created wheel for typing: filename=typing-3.7.4.3-py3-none-any.whl size=26306 sha256=41454104d2101721edfcd475c545ed5a6eb3c4e4a4d2fba822b537f865072353\n",
      "  Stored in directory: /home/aadya/.cache/pip/wheels/7c/d0/9e/1f26ebb66d9e1732e4098bc5a6c2d91f6c9a529838f0284890\n",
      "Successfully built typing\n",
      "\u001b[33mWARNING: Ignoring invalid distribution -eon (/home/aadya/.local/lib/python3.10/site-packages)\u001b[0m\u001b[33m\n",
      "\u001b[0mInstalling collected packages: typing, pydatastructs\n",
      "Successfully installed pydatastructs-1.2.3 typing-3.7.4.3\n",
      "\n",
      "\u001b[1m[\u001b[0m\u001b[34;49mnotice\u001b[0m\u001b[1;39;49m]\u001b[0m\u001b[39;49m A new release of pip is available: \u001b[0m\u001b[31;49m24.1.2\u001b[0m\u001b[39;49m -> \u001b[0m\u001b[32;49m24.3.1\u001b[0m\n",
      "\u001b[1m[\u001b[0m\u001b[34;49mnotice\u001b[0m\u001b[1;39;49m]\u001b[0m\u001b[39;49m To update, run: \u001b[0m\u001b[32;49mpip install --upgrade pip\u001b[0m\n",
      "Note: you may need to restart the kernel to use updated packages.\n"
     ]
    }
   ],
   "source": [
    "%pip install pydatastructs"
   ]
  },
  {
   "cell_type": "code",
   "execution_count": 1,
   "metadata": {},
   "outputs": [],
   "source": [
    "from pygraas import DependencyGraph, VulnerabilityGraph"
   ]
  },
  {
   "cell_type": "code",
   "execution_count": 2,
   "metadata": {},
   "outputs": [
    {
     "name": "stdout",
     "output_type": "stream",
     "text": [
      "Located package: /home/aadya/.local/lib/python3.10/site-packages/pydatastructs\n",
      "Copied source files to: /home/aadya/Desktop/dev/ga/examples/pydatastructs\n",
      "Cleaned up metadata for package: pydatastructs\n"
     ]
    },
    {
     "name": "stderr",
     "output_type": "stream",
     "text": [
      "/home/aadya/.local/lib/python3.10/site-packages/pygraas/_utils.py:23: UserWarning: \n",
      "        Not using `clone` mode builds the package source code by unzipping the wheels,\n",
      "        hence the `C/C++` Extension files present in the source code will be lost due\n",
      "        to the compiled nature of the wheel.\n",
      "        \n",
      "  warnings.warn(\n"
     ]
    }
   ],
   "source": [
    "g = DependencyGraph(package_name=\"pydatastructs\", package_url=None, allow_clone=False)"
   ]
  },
  {
   "cell_type": "code",
   "execution_count": 3,
   "metadata": {},
   "outputs": [
    {
     "name": "stdout",
     "output_type": "stream",
     "text": [
      "<pydeps.configs.Config object at 0x7e10f2b15840> \n",
      "\n",
      "changing __main__ => _dummy_pydatastructs.py\n",
      "changing __main__ => _dummy_pydatastructs.py\n",
      "Graph built with 12 nodes and 22 edges.\n"
     ]
    },
    {
     "data": {
      "text/plain": [
       "<networkx.classes.multidigraph.MultiDiGraph at 0x7e1084f99270>"
      ]
     },
     "execution_count": 3,
     "metadata": {},
     "output_type": "execute_result"
    }
   ],
   "source": [
    "g.build_graph()"
   ]
  },
  {
   "cell_type": "code",
   "execution_count": 4,
   "metadata": {},
   "outputs": [
    {
     "data": {
      "text/plain": [
       "<pygraas._depgraph.DependencyGraph at 0x7e1085370700>"
      ]
     },
     "execution_count": 4,
     "metadata": {},
     "output_type": "execute_result"
    }
   ],
   "source": [
    "v = VulnerabilityGraph(g)\n",
    "v.build_vulnerability_graph()"
   ]
  },
  {
   "cell_type": "code",
   "execution_count": 6,
   "metadata": {},
   "outputs": [
    {
     "name": "stdout",
     "output_type": "stream",
     "text": [
      "[]\n"
     ]
    }
   ],
   "source": [
    "print(v.get_vulnerables())"
   ]
  },
  {
   "cell_type": "markdown",
   "metadata": {},
   "source": [
    "#### Returns empty list since no vulnerable modules"
   ]
  },
  {
   "cell_type": "markdown",
   "metadata": {},
   "source": [
    "#### Now, lets analyse another package"
   ]
  },
  {
   "cell_type": "code",
   "execution_count": 2,
   "metadata": {},
   "outputs": [
    {
     "name": "stdout",
     "output_type": "stream",
     "text": [
      "Defaulting to user installation because normal site-packages is not writeable\n",
      "\u001b[33mWARNING: Ignoring invalid distribution -eon (/home/aadya/.local/lib/python3.10/site-packages)\u001b[0m\u001b[33m\n",
      "\u001b[0mRequirement already satisfied: rich in /home/aadya/.local/lib/python3.10/site-packages (13.6.0)\n",
      "Requirement already satisfied: markdown-it-py>=2.2.0 in /home/aadya/.local/lib/python3.10/site-packages (from rich) (3.0.0)\n",
      "Requirement already satisfied: pygments<3.0.0,>=2.13.0 in /home/aadya/.local/lib/python3.10/site-packages (from rich) (2.16.1)\n",
      "Requirement already satisfied: mdurl~=0.1 in /home/aadya/.local/lib/python3.10/site-packages (from markdown-it-py>=2.2.0->rich) (0.1.2)\n",
      "\u001b[33mWARNING: Ignoring invalid distribution -eon (/home/aadya/.local/lib/python3.10/site-packages)\u001b[0m\u001b[33m\n",
      "\u001b[0m\n",
      "\u001b[1m[\u001b[0m\u001b[34;49mnotice\u001b[0m\u001b[1;39;49m]\u001b[0m\u001b[39;49m A new release of pip is available: \u001b[0m\u001b[31;49m24.1.2\u001b[0m\u001b[39;49m -> \u001b[0m\u001b[32;49m24.3.1\u001b[0m\n",
      "\u001b[1m[\u001b[0m\u001b[34;49mnotice\u001b[0m\u001b[1;39;49m]\u001b[0m\u001b[39;49m To update, run: \u001b[0m\u001b[32;49mpip install --upgrade pip\u001b[0m\n",
      "Note: you may need to restart the kernel to use updated packages.\n"
     ]
    }
   ],
   "source": [
    "%pip install rich"
   ]
  },
  {
   "cell_type": "code",
   "execution_count": 3,
   "metadata": {},
   "outputs": [
    {
     "name": "stdout",
     "output_type": "stream",
     "text": [
      "Located package: /home/aadya/.local/lib/python3.10/site-packages/rich\n"
     ]
    },
    {
     "name": "stdout",
     "output_type": "stream",
     "text": [
      "Copied source files to: /home/aadya/Desktop/dev/ga/examples/rich\n",
      "Cleaned up metadata for package: rich\n"
     ]
    },
    {
     "name": "stderr",
     "output_type": "stream",
     "text": [
      "/home/aadya/.local/lib/python3.10/site-packages/pygraas/_utils.py:23: UserWarning: \n",
      "        Not using `clone` mode builds the package source code by unzipping the wheels,\n",
      "        hence the `C/C++` Extension files present in the source code will be lost due\n",
      "        to the compiled nature of the wheel.\n",
      "        \n",
      "  warnings.warn(\n"
     ]
    }
   ],
   "source": [
    "g = DependencyGraph(package_name=\"rich\", package_url=None, allow_clone=False)"
   ]
  },
  {
   "cell_type": "code",
   "execution_count": 4,
   "metadata": {},
   "outputs": [
    {
     "name": "stdout",
     "output_type": "stream",
     "text": [
      "<pydeps.configs.Config object at 0x7bc453f939a0> \n",
      "\n",
      "changing __main__ => _dummy_rich.py\n",
      "changing __main__ => _dummy_rich.py\n",
      "changing __main__ => _dummy_rich.py\n",
      "changing __main__ => _dummy_rich.py\n",
      "changing __main__ => _dummy_rich.py\n",
      "changing __main__ => _dummy_rich.py\n",
      "changing __main__ => _dummy_rich.py\n",
      "changing __main__ => _dummy_rich.py\n",
      "Graph built with 125 nodes and 773 edges.\n"
     ]
    },
    {
     "data": {
      "text/plain": [
       "<networkx.classes.multidigraph.MultiDiGraph at 0x7bc4610d08e0>"
      ]
     },
     "execution_count": 4,
     "metadata": {},
     "output_type": "execute_result"
    }
   ],
   "source": [
    "g.build_graph()"
   ]
  },
  {
   "cell_type": "code",
   "execution_count": 5,
   "metadata": {},
   "outputs": [
    {
     "name": "stdout",
     "output_type": "stream",
     "text": [
      "Passed external assignment for ipywidgets\n",
      "Passed external assignment for progress_bar\n"
     ]
    },
    {
     "data": {
      "text/plain": [
       "<pygraas._depgraph.DependencyGraph at 0x7bc49d650040>"
      ]
     },
     "execution_count": 5,
     "metadata": {},
     "output_type": "execute_result"
    }
   ],
   "source": [
    "v = VulnerabilityGraph(g)\n",
    "v.build_vulnerability_graph()"
   ]
  },
  {
   "cell_type": "code",
   "execution_count": 6,
   "metadata": {},
   "outputs": [
    {
     "name": "stdout",
     "output_type": "stream",
     "text": [
      "['IPython', 'pygments']\n"
     ]
    }
   ],
   "source": [
    "print(v.get_vulnerables())"
   ]
  },
  {
   "cell_type": "code",
   "execution_count": 7,
   "metadata": {},
   "outputs": [
    {
     "name": "stdout",
     "output_type": "stream",
     "text": [
      "['warnings', 'typing', 'traceback', 'rich_pretty', 'abc', 're', 'time', 'rich_syntax', 'types', 'rich_jupyter', 'io', 'rich_live', 'rich_traceback']\n"
     ]
    }
   ],
   "source": [
    "print(v.get_nearest_vulnerable_modules())"
   ]
  }
 ],
 "metadata": {
  "kernelspec": {
   "display_name": "Python 3",
   "language": "python",
   "name": "python3"
  },
  "language_info": {
   "codemirror_mode": {
    "name": "ipython",
    "version": 3
   },
   "file_extension": ".py",
   "mimetype": "text/x-python",
   "name": "python",
   "nbconvert_exporter": "python",
   "pygments_lexer": "ipython3",
   "version": "3.10.12"
  }
 },
 "nbformat": 4,
 "nbformat_minor": 2
}
