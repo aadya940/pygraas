{
 "cells": [
  {
   "cell_type": "markdown",
   "metadata": {},
   "source": [
    "### Constructing the dependency graph for networkx-gdf"
   ]
  },
  {
   "cell_type": "code",
   "execution_count": 1,
   "metadata": {},
   "outputs": [
    {
     "name": "stdout",
     "output_type": "stream",
     "text": [
      "Defaulting to user installation because normal site-packages is not writeable\n",
      "\u001b[33mWARNING: Ignoring invalid distribution -eon (/home/aadya/.local/lib/python3.10/site-packages)\u001b[0m\u001b[33m\n",
      "\u001b[0mRequirement already satisfied: networkx-gdf in /home/aadya/.local/lib/python3.10/site-packages (1.5.3)\n",
      "Requirement already satisfied: networkx>=2.1 in /home/aadya/.local/lib/python3.10/site-packages (from networkx-gdf) (3.1)\n",
      "Requirement already satisfied: pandas>=1.1.0 in /home/aadya/.local/lib/python3.10/site-packages (from networkx-gdf) (2.0.3)\n",
      "Requirement already satisfied: python-dateutil>=2.8.2 in /home/aadya/.local/lib/python3.10/site-packages (from pandas>=1.1.0->networkx-gdf) (2.8.2)\n",
      "Requirement already satisfied: pytz>=2020.1 in /home/aadya/.local/lib/python3.10/site-packages (from pandas>=1.1.0->networkx-gdf) (2024.1)\n",
      "Requirement already satisfied: tzdata>=2022.1 in /home/aadya/.local/lib/python3.10/site-packages (from pandas>=1.1.0->networkx-gdf) (2023.3)\n",
      "Requirement already satisfied: numpy>=1.21.0 in /home/aadya/.local/lib/python3.10/site-packages (from pandas>=1.1.0->networkx-gdf) (1.26.4)\n",
      "Requirement already satisfied: six>=1.5 in /usr/lib/python3/dist-packages (from python-dateutil>=2.8.2->pandas>=1.1.0->networkx-gdf) (1.16.0)\n",
      "\u001b[33mWARNING: Ignoring invalid distribution -eon (/home/aadya/.local/lib/python3.10/site-packages)\u001b[0m\u001b[33m\n",
      "\u001b[0m\n",
      "\u001b[1m[\u001b[0m\u001b[34;49mnotice\u001b[0m\u001b[1;39;49m]\u001b[0m\u001b[39;49m A new release of pip is available: \u001b[0m\u001b[31;49m24.1.2\u001b[0m\u001b[39;49m -> \u001b[0m\u001b[32;49m24.3.1\u001b[0m\n",
      "\u001b[1m[\u001b[0m\u001b[34;49mnotice\u001b[0m\u001b[1;39;49m]\u001b[0m\u001b[39;49m To update, run: \u001b[0m\u001b[32;49mpip install --upgrade pip\u001b[0m\n",
      "Note: you may need to restart the kernel to use updated packages.\n"
     ]
    }
   ],
   "source": [
    "# Install networkx-gdf\n",
    "%pip install networkx-gdf"
   ]
  },
  {
   "cell_type": "code",
   "execution_count": 2,
   "metadata": {},
   "outputs": [],
   "source": [
    "from pygraas import DependencyGraph, VulnerabilityGraph, unsafe_functions\n",
    "from pygraas import io"
   ]
  },
  {
   "cell_type": "code",
   "execution_count": 3,
   "metadata": {},
   "outputs": [
    {
     "name": "stderr",
     "output_type": "stream",
     "text": [
      "/home/aadya/.local/lib/python3.10/site-packages/pygraas/_utils.py:19: UserWarning: \n",
      "        Not using `clone` mode builds the package source code by unzipping the wheels,\n",
      "        hence the `C/C++` Extension files present in the source code will be lost due\n",
      "        to the compiled nature of the wheel.\n",
      "        \n",
      "  warnings.warn(\n"
     ]
    },
    {
     "name": "stdout",
     "output_type": "stream",
     "text": [
      "Located package: /home/aadya/.local/lib/python3.10/site-packages/networkx_gdf\n",
      "Copied source files to: /home/aadya/Desktop/dev/ga/examples/networkx_gdf\n",
      "Cleaned up metadata for package: networkx_gdf\n",
      "<pydeps.configs.Config object at 0x75c31757b8e0> \n",
      "\n",
      "changing __main__ => _dummy_networkx_gdf.py\n",
      "changing __main__ => _dummy_networkx_gdf.py\n",
      "changing __main__ => _dummy_networkx_gdf.py\n",
      "changing __main__ => _dummy_networkx_gdf.py\n",
      "changing __main__ => _dummy_networkx_gdf.py\n",
      "changing __main__ => _dummy_networkx_gdf.py\n",
      "changing __main__ => _dummy_networkx_gdf.py\n",
      "changing __main__ => _dummy_networkx_gdf.py\n",
      "changing __main__ => _dummy_networkx_gdf.py\n",
      "changing __main__ => _dummy_networkx_gdf.py\n",
      "changing __main__ => _dummy_networkx_gdf.py\n",
      "changing __main__ => _dummy_networkx_gdf.py\n",
      "Graph built with 99 nodes and 425 edges.\n"
     ]
    },
    {
     "data": {
      "text/plain": [
       "<networkx.classes.multidigraph.MultiDiGraph at 0x75c33007db70>"
      ]
     },
     "execution_count": 3,
     "metadata": {},
     "output_type": "execute_result"
    }
   ],
   "source": [
    "# Since networkx-gdf is already present in the system, we don't need to clone the library.\n",
    "g = DependencyGraph(\"networkx_gdf\", package_url=None, allow_clone=False)\n",
    "g.build_graph(max_bacon=4)"
   ]
  },
  {
   "cell_type": "markdown",
   "metadata": {},
   "source": [
    "### Dependency Graph built, now we will create a Vulnerability Graph."
   ]
  },
  {
   "cell_type": "code",
   "execution_count": 4,
   "metadata": {},
   "outputs": [
    {
     "data": {
      "text/plain": [
       "<pygraas._depgraph.DependencyGraph at 0x75c30c6a4a60>"
      ]
     },
     "execution_count": 4,
     "metadata": {},
     "output_type": "execute_result"
    }
   ],
   "source": [
    "v = VulnerabilityGraph(g)\n",
    "v.build_vulnerability_graph()"
   ]
  },
  {
   "cell_type": "markdown",
   "metadata": {},
   "source": [
    "#### List external vulnerable packages based on the Safety-DB Database"
   ]
  },
  {
   "cell_type": "code",
   "execution_count": 5,
   "metadata": {},
   "outputs": [
    {
     "name": "stdout",
     "output_type": "stream",
     "text": [
      "['pandas']\n"
     ]
    }
   ],
   "source": [
    "vulnerables = v.get_vulnerables()\n",
    "print(vulnerables)"
   ]
  },
  {
   "cell_type": "markdown",
   "metadata": {},
   "source": [
    "### Read Details"
   ]
  },
  {
   "cell_type": "markdown",
   "metadata": {},
   "source": [
    "v.get_vulnerables(details=True)[0][\"pandas\"][\"version\"]"
   ]
  },
  {
   "cell_type": "markdown",
   "metadata": {},
   "source": []
  }
 ],
 "metadata": {
  "kernelspec": {
   "display_name": "Python 3",
   "language": "python",
   "name": "python3"
  },
  "language_info": {
   "codemirror_mode": {
    "name": "ipython",
    "version": 3
   },
   "file_extension": ".py",
   "mimetype": "text/x-python",
   "name": "python",
   "nbconvert_exporter": "python",
   "pygments_lexer": "ipython3",
   "version": "3.10.12"
  }
 },
 "nbformat": 4,
 "nbformat_minor": 2
}
