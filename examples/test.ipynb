{
 "cells": [
  {
   "cell_type": "markdown",
   "metadata": {},
   "source": [
    "### Generate Dependency Graph for Numpy, Max Depth = 4"
   ]
  },
  {
   "cell_type": "code",
   "execution_count": 1,
   "metadata": {},
   "outputs": [
    {
     "name": "stderr",
     "output_type": "stream",
     "text": [
      "Cloning into 'numpy'...\n",
      "Updating files: 100% (2222/2222), done.\n",
      "dummymodule.py:140: WARNING: SKIPPING ILLEGAL MODULE_NAME: numpy.numpy._pyinstaller.hook-numpy\n",
      "dummymodule.py:140: WARNING: SKIPPING ILLEGAL MODULE_NAME: numpy.numpy._pyinstaller.tests.pyinstaller-smoke\n"
     ]
    },
    {
     "name": "stdout",
     "output_type": "stream",
     "text": [
      "<pydeps.configs.Config object at 0x7b4860650fd0> \n",
      "\n",
      "changing __main__ => _dummy_numpy.py\n",
      "changing __main__ => _dummy_numpy.py\n",
      "changing __main__ => _dummy_numpy.py\n",
      "changing __main__ => _dummy_numpy.py\n",
      "Graph built with 292 nodes and 1494 edges.\n"
     ]
    }
   ],
   "source": [
    "from pygraas import DependencyGraph, VulnerabilityGraph\n",
    "g = DependencyGraph(package_name=\"numpy\", package_url=\"https://github.com/numpy/numpy\")\n",
    "graph = g.build_graph(max_bacon=4)"
   ]
  },
  {
   "cell_type": "markdown",
   "metadata": {},
   "source": [
    "### Generate Vulnerability Graph based on the Dependency Graph"
   ]
  },
  {
   "cell_type": "markdown",
   "metadata": {},
   "source": [
    "Vulnerability Graph marks the external packages which are Vulnerable, also add's the CVEs, advisory and \n",
    "vulnerable package versions as node attributes."
   ]
  },
  {
   "cell_type": "code",
   "execution_count": 2,
   "metadata": {},
   "outputs": [
    {
     "data": {
      "text/plain": [
       "<pygraas._depgraph.DependencyGraph at 0x7b4848b037c0>"
      ]
     },
     "execution_count": 2,
     "metadata": {},
     "output_type": "execute_result"
    }
   ],
   "source": [
    "v = VulnerabilityGraph(g)\n",
    "v.build_vulnerability_graph()"
   ]
  },
  {
   "cell_type": "markdown",
   "metadata": {},
   "source": [
    "#### List external vulnerable packages based on the Safety-DB Database"
   ]
  },
  {
   "cell_type": "code",
   "execution_count": 3,
   "metadata": {},
   "outputs": [
    {
     "name": "stdout",
     "output_type": "stream",
     "text": [
      "['numpy', 'psutil', 'setuptools']\n"
     ]
    }
   ],
   "source": [
    "vulnerables = v.get_vulnerables()\n",
    "print(vulnerables)"
   ]
  },
  {
   "cell_type": "markdown",
   "metadata": {},
   "source": [
    "#### Degree of the \"psutil\" node "
   ]
  },
  {
   "cell_type": "code",
   "execution_count": 4,
   "metadata": {},
   "outputs": [
    {
     "data": {
      "text/plain": [
       "{'in_degree': 10, 'out_degree': 1}"
      ]
     },
     "execution_count": 4,
     "metadata": {},
     "output_type": "execute_result"
    }
   ],
   "source": [
    "v.get_degree(vulnerables[1])"
   ]
  },
  {
   "cell_type": "markdown",
   "metadata": {},
   "source": [
    "#### List of Public Nodes that have a path to vulnerable \"setuptools\""
   ]
  },
  {
   "cell_type": "code",
   "execution_count": 18,
   "metadata": {},
   "outputs": [
    {
     "data": {
      "text/plain": [
       "[{'grp - setuptools': True},\n",
       " {'email - setuptools': True},\n",
       " {'math - setuptools': True},\n",
       " {'importlib - setuptools': True},\n",
       " {'http - setuptools': True},\n",
       " {'collections - setuptools': True},\n",
       " {'bisect - setuptools': True},\n",
       " {'functools - setuptools': True},\n",
       " {'mimetypes - setuptools': True},\n",
       " {'fnmatch - setuptools': True},\n",
       " {'copy - setuptools': True},\n",
       " {'ntpath - setuptools': True},\n",
       " {'glob - setuptools': True},\n",
       " {'doctest - setuptools': True},\n",
       " {'enum - setuptools': True},\n",
       " {'codecs - setuptools': True},\n",
       " {'genericpath - setuptools': True},\n",
       " {'gc - setuptools': True},\n",
       " {'fcntl - setuptools': True},\n",
       " {'dataclasses - setuptools': True}]"
      ]
     },
     "execution_count": 18,
     "metadata": {},
     "output_type": "execute_result"
    }
   ],
   "source": [
    "# Show only the first 20 entries for demonstration.\n",
    "v.get_vulnerable_public_nodes(vulnerables[2])[0: 20]"
   ]
  }
 ],
 "metadata": {
  "kernelspec": {
   "display_name": "Python 3",
   "language": "python",
   "name": "python3"
  },
  "language_info": {
   "codemirror_mode": {
    "name": "ipython",
    "version": 3
   },
   "file_extension": ".py",
   "mimetype": "text/x-python",
   "name": "python",
   "nbconvert_exporter": "python",
   "pygments_lexer": "ipython3",
   "version": "3.10.12"
  }
 },
 "nbformat": 4,
 "nbformat_minor": 2
}
