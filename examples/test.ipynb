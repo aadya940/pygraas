{
 "cells": [
  {
   "cell_type": "code",
   "execution_count": 1,
   "metadata": {},
   "outputs": [
    {
     "name": "stderr",
     "output_type": "stream",
     "text": [
      "Cloning into 'numpy'...\n",
      "dummymodule.py:140: WARNING: SKIPPING ILLEGAL MODULE_NAME: numpy.numpy._pyinstaller.hook-numpy\n",
      "dummymodule.py:140: WARNING: SKIPPING ILLEGAL MODULE_NAME: numpy.numpy._pyinstaller.tests.pyinstaller-smoke\n"
     ]
    },
    {
     "name": "stdout",
     "output_type": "stream",
     "text": [
      "<pydeps.configs.Config object at 0x7834ac0a6b90> \n",
      "\n",
      "changing __main__ => _dummy_numpy.py\n",
      "Graph built with 153 nodes and 504 edges.\n"
     ]
    }
   ],
   "source": [
    "from pygraas import DependencyGraph, VulnerabilityGraph\n",
    "g = DependencyGraph(package_name=\"numpy\", package_url=\"https://github.com/numpy/numpy\")\n",
    "graph = g.build_graph(max_bacon=4)"
   ]
  },
  {
   "cell_type": "code",
   "execution_count": 2,
   "metadata": {},
   "outputs": [
    {
     "data": {
      "text/plain": [
       "<pygraas.depgraph.DependencyGraph at 0x7834a0b6acb0>"
      ]
     },
     "execution_count": 2,
     "metadata": {},
     "output_type": "execute_result"
    }
   ],
   "source": [
    "v = VulnerabilityGraph(g)\n",
    "v.build_vulnerability_graph()"
   ]
  },
  {
   "cell_type": "code",
   "execution_count": 3,
   "metadata": {},
   "outputs": [
    {
     "name": "stdout",
     "output_type": "stream",
     "text": [
      "['numpy', 'psutil', 'setuptools']\n"
     ]
    }
   ],
   "source": [
    "vulnerables = v.get_vulnerables()\n",
    "print(vulnerables)"
   ]
  },
  {
   "cell_type": "code",
   "execution_count": 5,
   "metadata": {},
   "outputs": [
    {
     "data": {
      "text/plain": [
       "{'in_degree': 0, 'out_degree': 1}"
      ]
     },
     "execution_count": 5,
     "metadata": {},
     "output_type": "execute_result"
    }
   ],
   "source": [
    "v.get_degree(vulnerables[1])"
   ]
  }
 ],
 "metadata": {
  "kernelspec": {
   "display_name": "Python 3",
   "language": "python",
   "name": "python3"
  },
  "language_info": {
   "codemirror_mode": {
    "name": "ipython",
    "version": 3
   },
   "file_extension": ".py",
   "mimetype": "text/x-python",
   "name": "python",
   "nbconvert_exporter": "python",
   "pygments_lexer": "ipython3",
   "version": "3.10.12"
  }
 },
 "nbformat": 4,
 "nbformat_minor": 2
}
