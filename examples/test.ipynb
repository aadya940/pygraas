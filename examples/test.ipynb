{
 "cells": [
  {
   "cell_type": "markdown",
   "metadata": {},
   "source": [
    "### Generate Dependency Graph for Numpy, Max Depth = 4"
   ]
  },
  {
   "cell_type": "code",
   "execution_count": 1,
   "metadata": {},
   "outputs": [
    {
     "name": "stderr",
     "output_type": "stream",
     "text": [
      "Cloning into 'numpy'...\n",
      "Updating files: 100% (2222/2222), done.\n",
      "dummymodule.py:140: WARNING: SKIPPING ILLEGAL MODULE_NAME: numpy.numpy._pyinstaller.hook-numpy\n",
      "dummymodule.py:140: WARNING: SKIPPING ILLEGAL MODULE_NAME: numpy.numpy._pyinstaller.tests.pyinstaller-smoke\n"
     ]
    },
    {
     "name": "stdout",
     "output_type": "stream",
     "text": [
      "<pydeps.configs.Config object at 0x7b4860650fd0> \n",
      "\n",
      "changing __main__ => _dummy_numpy.py\n",
      "changing __main__ => _dummy_numpy.py\n",
      "changing __main__ => _dummy_numpy.py\n",
      "changing __main__ => _dummy_numpy.py\n",
      "Graph built with 292 nodes and 1494 edges.\n"
     ]
    }
   ],
   "source": [
    "from pygraas import DependencyGraph, VulnerabilityGraph\n",
    "g = DependencyGraph(package_name=\"numpy\", package_url=\"https://github.com/numpy/numpy\")\n",
    "graph = g.build_graph(max_bacon=4)"
   ]
  },
  {
   "cell_type": "markdown",
   "metadata": {},
   "source": [
    "### Generate Vulnerability Graph based on the Dependency Graph"
   ]
  },
  {
   "cell_type": "markdown",
   "metadata": {},
   "source": [
    "Vulnerability Graph marks the external packages which are Vulnerable, also add's the CVEs, advisory and \n",
    "vulnerable package versions as node attributes."
   ]
  },
  {
   "cell_type": "code",
   "execution_count": 2,
   "metadata": {},
   "outputs": [
    {
     "data": {
      "text/plain": [
       "<pygraas._depgraph.DependencyGraph at 0x7b4848b037c0>"
      ]
     },
     "execution_count": 2,
     "metadata": {},
     "output_type": "execute_result"
    }
   ],
   "source": [
    "v = VulnerabilityGraph(g)\n",
    "v.build_vulnerability_graph()"
   ]
  },
  {
   "cell_type": "markdown",
   "metadata": {},
   "source": [
    "#### List external vulnerable packages based on the Safety-DB Database"
   ]
  },
  {
   "cell_type": "code",
   "execution_count": 3,
   "metadata": {},
   "outputs": [
    {
     "name": "stdout",
     "output_type": "stream",
     "text": [
      "['numpy', 'psutil', 'setuptools']\n"
     ]
    }
   ],
   "source": [
    "vulnerables = v.get_vulnerables()\n",
    "print(vulnerables)"
   ]
  },
  {
   "cell_type": "markdown",
   "metadata": {},
   "source": [
    "### Read Details"
   ]
  },
  {
   "cell_type": "code",
   "execution_count": 26,
   "metadata": {},
   "outputs": [
    {
     "data": {
      "text/plain": [
       "['Setuptools version 0.7 includes a fix for CVE-2013-1633: Easy_install in setuptools before 0.7 uses HTTP to retrieve packages from the PyPI repository, and does not perform integrity checks on package contents, which allows man-in-the-middle attackers to execute arbitrary code via a crafted response to the default use of the product.',\n",
       " 'setuptools 0.9.5 fixes a security vulnerability in SSL certificate validation.',\n",
       " 'Setuptools before 1.3 has a security vulnerability in SSL match_hostname check, similar to CVE-2013-7440.',\n",
       " 'setuptools 3.0 avoids the potential security vulnerabilities presented by use of tar archives in ez_setup.py. It also leverages the security features added to ZipFile.extract in Python 2.7.4.',\n",
       " 'Setuptools 65.5.1 includes a fix for CVE-2022-40897: Python Packaging Authority (PyPA) setuptools before 65.5.1 allows remote attackers to cause a denial of service via HTML in a crafted package or custom PackageIndex page. There is a Regular Expression Denial of Service (ReDoS) in package_index.py.',\n",
       " 'Affected versions of Setuptools allow for remote code execution via its download functions. These functions, which are used to download packages from URLs provided by users or retrieved from package index servers, are susceptible to code injection. If these functions are exposed to user-controlled inputs, such as package URLs, they can execute arbitrary commands on the system.',\n",
       " 'Versions of setuptools are susceptible to a Denial of Service (DoS) attack due to an algorithmic complexity vulnerability in the ssl.match_hostname function. This flaw enables remote attackers to induce a DoS condition, characterized by excessive CPU consumption, through the use of multiple wildcard characters in the common name of a certificate.']"
      ]
     },
     "execution_count": 26,
     "metadata": {},
     "output_type": "execute_result"
    }
   ],
   "source": [
    "v.get_vulnerables(details=True)[2][\"setuptools\"][\"advisory\"]"
   ]
  },
  {
   "cell_type": "code",
   "execution_count": 27,
   "metadata": {},
   "outputs": [
    {
     "data": {
      "text/plain": [
       "['<0.7', '<0.9.5', '<1.3', '<3.0', '<65.5.1', '<70.0.0', '>=0,<0.9.5']"
      ]
     },
     "execution_count": 27,
     "metadata": {},
     "output_type": "execute_result"
    }
   ],
   "source": [
    "v.get_vulnerables(details=True)[2][\"setuptools\"][\"version\"]"
   ]
  },
  {
   "cell_type": "code",
   "execution_count": 29,
   "metadata": {},
   "outputs": [
    {
     "data": {
      "text/plain": [
       "['CVE-2013-1633',\n",
       " 'PVE-2021-26129',\n",
       " 'PVE-2021-26132',\n",
       " 'PVE-2021-26133',\n",
       " 'CVE-2022-40897',\n",
       " 'CVE-2024-6345',\n",
       " 'PVE-2024-99866']"
      ]
     },
     "execution_count": 29,
     "metadata": {},
     "output_type": "execute_result"
    }
   ],
   "source": [
    "v.get_vulnerables(details=True)[2][\"setuptools\"][\"CVE\"]"
   ]
  },
  {
   "cell_type": "markdown",
   "metadata": {},
   "source": [
    "#### Degree of the \"psutil\" node "
   ]
  },
  {
   "cell_type": "code",
   "execution_count": 4,
   "metadata": {},
   "outputs": [
    {
     "data": {
      "text/plain": [
       "{'in_degree': 10, 'out_degree': 1}"
      ]
     },
     "execution_count": 4,
     "metadata": {},
     "output_type": "execute_result"
    }
   ],
   "source": [
    "v.get_degree(vulnerables[1])"
   ]
  },
  {
   "cell_type": "markdown",
   "metadata": {},
   "source": [
    "#### List of Public Nodes that have a path to vulnerable \"setuptools\""
   ]
  },
  {
   "cell_type": "code",
   "execution_count": 18,
   "metadata": {},
   "outputs": [
    {
     "data": {
      "text/plain": [
       "[{'grp - setuptools': True},\n",
       " {'email - setuptools': True},\n",
       " {'math - setuptools': True},\n",
       " {'importlib - setuptools': True},\n",
       " {'http - setuptools': True},\n",
       " {'collections - setuptools': True},\n",
       " {'bisect - setuptools': True},\n",
       " {'functools - setuptools': True},\n",
       " {'mimetypes - setuptools': True},\n",
       " {'fnmatch - setuptools': True},\n",
       " {'copy - setuptools': True},\n",
       " {'ntpath - setuptools': True},\n",
       " {'glob - setuptools': True},\n",
       " {'doctest - setuptools': True},\n",
       " {'enum - setuptools': True},\n",
       " {'codecs - setuptools': True},\n",
       " {'genericpath - setuptools': True},\n",
       " {'gc - setuptools': True},\n",
       " {'fcntl - setuptools': True},\n",
       " {'dataclasses - setuptools': True}]"
      ]
     },
     "execution_count": 18,
     "metadata": {},
     "output_type": "execute_result"
    }
   ],
   "source": [
    "# Show only the first 20 entries for demonstration.\n",
    "v.get_vulnerable_public_nodes(vulnerables[2])[0: 20]"
   ]
  }
 ],
 "metadata": {
  "kernelspec": {
   "display_name": "Python 3",
   "language": "python",
   "name": "python3"
  },
  "language_info": {
   "codemirror_mode": {
    "name": "ipython",
    "version": 3
   },
   "file_extension": ".py",
   "mimetype": "text/x-python",
   "name": "python",
   "nbconvert_exporter": "python",
   "pygments_lexer": "ipython3",
   "version": "3.10.12"
  }
 },
 "nbformat": 4,
 "nbformat_minor": 2
}
